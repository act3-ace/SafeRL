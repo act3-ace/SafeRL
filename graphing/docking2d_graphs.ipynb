{
 "cells": [
  {
   "cell_type": "code",
   "execution_count": 1,
   "id": "3617b832-181b-4664-8f9b-3ee52fe68b09",
   "metadata": {},
   "outputs": [
    {
     "ename": "ModuleNotFoundError",
     "evalue": "No module named 'ray'",
     "output_type": "error",
     "traceback": [
      "\u001b[0;31m---------------------------------------------------------------------------\u001b[0m",
      "\u001b[0;31mModuleNotFoundError\u001b[0m                       Traceback (most recent call last)",
      "\u001b[0;32m/tmp/ipykernel_2010/3790669250.py\u001b[0m in \u001b[0;36m<module>\u001b[0;34m\u001b[0m\n\u001b[1;32m      1\u001b[0m \u001b[0;32mimport\u001b[0m \u001b[0margparse\u001b[0m\u001b[0;34m\u001b[0m\u001b[0;34m\u001b[0m\u001b[0m\n\u001b[0;32m----> 2\u001b[0;31m \u001b[0;32mfrom\u001b[0m \u001b[0mray\u001b[0m\u001b[0;34m.\u001b[0m\u001b[0mtune\u001b[0m \u001b[0;32mimport\u001b[0m \u001b[0mAnalysis\u001b[0m\u001b[0;34m\u001b[0m\u001b[0;34m\u001b[0m\u001b[0m\n\u001b[0m\u001b[1;32m      3\u001b[0m \u001b[0;32mimport\u001b[0m \u001b[0mpandas\u001b[0m \u001b[0;32mas\u001b[0m \u001b[0mpd\u001b[0m\u001b[0;34m\u001b[0m\u001b[0;34m\u001b[0m\u001b[0m\n\u001b[1;32m      4\u001b[0m \u001b[0;32mimport\u001b[0m \u001b[0mos\u001b[0m\u001b[0;34m\u001b[0m\u001b[0;34m\u001b[0m\u001b[0m\n\u001b[1;32m      5\u001b[0m \u001b[0;32mimport\u001b[0m \u001b[0mnumpy\u001b[0m \u001b[0;32mas\u001b[0m \u001b[0mnp\u001b[0m\u001b[0;34m\u001b[0m\u001b[0;34m\u001b[0m\u001b[0m\n",
      "\u001b[0;31mModuleNotFoundError\u001b[0m: No module named 'ray'"
     ]
    }
   ],
   "source": [
    "import argparse\n",
    "from ray.tune import Analysis\n",
    "import pandas as pd\n",
    "import os\n",
    "import numpy as np\n",
    "import matplotlib.pyplot as plt\n",
    "import seaborn as sns\n",
    "import scipy \n",
    "import pdb "
   ]
  },
  {
   "cell_type": "code",
   "execution_count": null,
   "id": "01d1ef8b-1d0c-4de0-b487-1a8511f030be",
   "metadata": {},
   "outputs": [],
   "source": [
    "logdir = '/data/petabyte/safe_autonomy/ieee_aero_2022/experiments/docking_2d/expr_20210914_005226'"
   ]
  },
  {
   "cell_type": "code",
   "execution_count": null,
   "id": "b6fb0d78-541c-4c22-980c-740003887f6c",
   "metadata": {},
   "outputs": [],
   "source": [
    "all_subdirs = next(os.walk(logdir))[1]"
   ]
  },
  {
   "cell_type": "code",
   "execution_count": null,
   "id": "d73e4887-a904-4b71-aec3-e3ba774293f8",
   "metadata": {},
   "outputs": [],
   "source": [
    "all_subdirs"
   ]
  },
  {
   "cell_type": "code",
   "execution_count": null,
   "id": "0216c9f3-c483-4910-9231-c32aeeb7bad5",
   "metadata": {},
   "outputs": [],
   "source": [
    "# preprocessing logic \n",
    "\n",
    "# keep track of all csv files\n",
    "csv_file_tracker = []\n",
    "for d in all_subdirs: \n",
    "    if d == 'training_logs':\n",
    "        continue\n",
    "    else: \n",
    "        csv_path = logdir + '/' + d + '/' + 'progress.csv'\n",
    "        csv_file_tracker.append(csv_path)\n"
   ]
  },
  {
   "cell_type": "code",
   "execution_count": null,
   "id": "9a3c1d97-a1b7-4126-9152-b135719a8168",
   "metadata": {},
   "outputs": [],
   "source": [
    "data_dfs = [pd.read_csv(csv_file_tracker[i]) for i in range(len(csv_file_tracker))]"
   ]
  },
  {
   "cell_type": "markdown",
   "id": "c7843088-feca-4290-9cd4-553563c0e1ae",
   "metadata": {},
   "source": [
    "Make graphs and visuals of all the data present - use the multiple loop approach from earlier notebook "
   ]
  },
  {
   "cell_type": "code",
   "execution_count": null,
   "id": "0d703de3-030a-44c9-aaab-a8cff7ed9015",
   "metadata": {},
   "outputs": [],
   "source": [
    "plt.figure()\n",
    "plt.title('Steps vs Success Mean')\n",
    "plt.ylabel('Success Mean')\n",
    "plt.xlabel('Number of steps')\n",
    "\n",
    "seed = 0\n",
    "for d in all_subdirs: \n",
    "    if d == 'training_logs':\n",
    "        continue\n",
    "    else: \n",
    "        seed_name = 'seed_' + str(seed)\n",
    "        csv_path = logdir + '/' + d + '/' + 'progress.csv'\n",
    "        data = pd.read_csv(csv_path)\n",
    "        steps = data['timesteps_total']\n",
    "        success_mean= data['custom_metrics/outcome/success_mean']\n",
    "        plt.plot(steps,success_mean,label=seed_name)\n",
    "        seed = seed + 1\n",
    "plt.legend()\n"
   ]
  },
  {
   "cell_type": "code",
   "execution_count": null,
   "id": "6eac6213-9607-4acc-9a63-ec3af034c588",
   "metadata": {},
   "outputs": [],
   "source": [
    "plt.figure()\n",
    "plt.title('Steps vs Episode Length Mean')\n",
    "plt.ylabel('Episode Length Mean')\n",
    "plt.xlabel('Number of steps')\n",
    "\n",
    "seed = 0\n",
    "for d in all_subdirs: \n",
    "    if d == 'training_logs':\n",
    "        continue\n",
    "    else: \n",
    "        seed_name = 'seed_' + str(seed)\n",
    "        csv_path = logdir + '/' + d + '/' + 'progress.csv'\n",
    "        data = pd.read_csv(csv_path)\n",
    "        steps = data['timesteps_total']\n",
    "        success_mean= data['episode_len_mean']\n",
    "        plt.plot(steps,success_mean,label=seed_name)\n",
    "        seed = seed + 1\n",
    "\n",
    "plt.legend()\n"
   ]
  },
  {
   "cell_type": "code",
   "execution_count": null,
   "id": "f6925bf5-43dd-4431-a65a-3ca4a84eb1a5",
   "metadata": {},
   "outputs": [],
   "source": [
    "plt.figure()\n",
    "plt.title('Steps vs Reward')\n",
    "plt.ylabel('Reward')\n",
    "plt.xlabel('Number of steps')\n",
    "\n",
    "seed = 0\n",
    "for d in all_subdirs: \n",
    "    if d == 'training_logs':\n",
    "        continue\n",
    "    else: \n",
    "        seed_name = 'seed_' + str(seed)\n",
    "        csv_path = logdir + '/' + d + '/' + 'progress.csv'\n",
    "        data = pd.read_csv(csv_path)\n",
    "        steps = data['timesteps_total']\n",
    "        success_mean= data['episode_reward_mean']\n",
    "        plt.plot(steps,success_mean,label=seed_name)\n",
    "        seed = seed + 1\n",
    "\n",
    "plt.legend()\n"
   ]
  },
  {
   "cell_type": "markdown",
   "id": "fff9a804-b6b5-4f21-94ae-e19a813832f3",
   "metadata": {},
   "source": [
    "View DataFrames to find dfs that end around 4*10^6 steps"
   ]
  },
  {
   "cell_type": "code",
   "execution_count": null,
   "id": "95a3a12e-d6d7-4ced-ba58-d5e6dd8b7b5d",
   "metadata": {},
   "outputs": [],
   "source": [
    "data_dfs[1]"
   ]
  },
  {
   "cell_type": "code",
   "execution_count": null,
   "id": "26477d1b-5875-423e-8e01-9f54da279ecf",
   "metadata": {},
   "outputs": [],
   "source": [
    "data_dfs[3]"
   ]
  },
  {
   "cell_type": "code",
   "execution_count": null,
   "id": "56519a08-a5ca-44a8-9bd4-4b12717929f1",
   "metadata": {},
   "outputs": [],
   "source": [
    "data_dfs[8]"
   ]
  },
  {
   "cell_type": "code",
   "execution_count": null,
   "id": "3798c47e-bfea-457c-bff5-926c5b1e6de7",
   "metadata": {},
   "outputs": [],
   "source": [
    "data_dfs[8].columns"
   ]
  },
  {
   "cell_type": "code",
   "execution_count": null,
   "id": "66e30dd3-9be9-4c50-9dcc-86d649350942",
   "metadata": {},
   "outputs": [],
   "source": [
    "# find the set of unique x values i.e. timestep data \n",
    "key_timesteps = 'timesteps_total'\n",
    "timesteps_total_track = []\n",
    "for ds in data_dfs: \n",
    "    for i in range(ds.shape[0]):                \n",
    "        timestep_total = ds.iloc[[i]][key_timesteps][i]\n",
    "        timesteps_total_track.append(timestep_total)\n",
    "\n",
    "timesteps = np.array(timesteps_total_track)\n",
    "unique_timesteps = np.unique(timesteps) "
   ]
  },
  {
   "cell_type": "code",
   "execution_count": null,
   "id": "c77e8e07-2ae1-4ebb-a2ea-00edd4483245",
   "metadata": {},
   "outputs": [],
   "source": [
    "#view intermediate results \n",
    "print(unique_timesteps)\n",
    "print(unique_timesteps.max())\n",
    "print(unique_timesteps.min())\n",
    "print(\"range:\",unique_timesteps.max() - unique_timesteps.min())"
   ]
  },
  {
   "cell_type": "code",
   "execution_count": null,
   "id": "270bff7f-6393-43ad-a151-cda0b7c9546c",
   "metadata": {},
   "outputs": [],
   "source": [
    "# interpolate each experiment's data over that set of unique x values "
   ]
  },
  {
   "cell_type": "code",
   "execution_count": null,
   "id": "0adab480-e524-42ac-8e19-ef42de5896bf",
   "metadata": {},
   "outputs": [],
   "source": [
    "clipped_timesteps = data_dfs[8]['timesteps_total']"
   ]
  },
  {
   "cell_type": "code",
   "execution_count": null,
   "id": "4408d83e-658c-4557-8905-55cd1930274d",
   "metadata": {},
   "outputs": [],
   "source": [
    "from scipy import interpolate\n",
    "sns.set_theme()"
   ]
  },
  {
   "cell_type": "code",
   "execution_count": null,
   "id": "1d4f7820-f9c4-46f0-8688-9d494a350ed6",
   "metadata": {},
   "outputs": [],
   "source": [
    "key_timesteps = 'timesteps_total'\n",
    "key_eps_len_mean = 'episode_len_mean'\n",
    "key_success_mean = 'custom_metrics/outcome/success_mean'\n",
    "key_eps_reward_mean = 'episode_reward_mean'\n"
   ]
  },
  {
   "cell_type": "code",
   "execution_count": null,
   "id": "abcec2b4-9074-46a4-aefa-ae4d656c308e",
   "metadata": {},
   "outputs": [],
   "source": [
    "timesteps_total_track = []\n",
    "episode_len_mean_track = []\n",
    "success_mean_track = []\n",
    "eps_reward_mean_track = []\n",
    "\n",
    "# dont need to walk through step by step , can just grab columns \n",
    "for ds in data_dfs:                 \n",
    "    timestep_total = ds[key_timesteps]\n",
    "    episode_len_mean = ds[key_eps_len_mean]\n",
    "    success_mean = ds[key_success_mean]\n",
    "    reward_mean = ds[key_eps_reward_mean]\n",
    "        \n",
    "    # interpolation functions\n",
    "    func_time_v_eps_len = interpolate.interp1d(timestep_total,episode_len_mean,fill_value='extrapolate')\n",
    "    func_time_v_success = interpolate.interp1d(timestep_total,success_mean,fill_value='extrapolate')\n",
    "    func_time_v_reward = interpolate.interp1d(timestep_total,reward_mean,fill_value='extrapolate')\n",
    "    interp_eps_len = func_time_v_eps_len(clipped_timesteps)\n",
    "    interp_success = func_time_v_success(clipped_timesteps)\n",
    "    interp_reward = func_time_v_reward(clipped_timesteps)\n",
    "        \n",
    "    for i in clipped_timesteps:\n",
    "        timesteps_total_track.append(i)\n",
    "    for i in interp_eps_len: \n",
    "        episode_len_mean_track.append(i)\n",
    "    for i in interp_success: \n",
    "        success_mean_track.append(i)\n",
    "    for i in interp_reward: \n",
    "        eps_reward_mean_track.append(i)\n"
   ]
  },
  {
   "cell_type": "code",
   "execution_count": null,
   "id": "fadd7e06-0a7a-483d-a3c5-e081d9678b85",
   "metadata": {},
   "outputs": [],
   "source": [
    "sns.set_theme()\n",
    "sns.set(font_scale=1.5)\n",
    "timesteps_total_v_episode_len_mean = pd.DataFrame()\n",
    "timesteps_total_v_episode_len_mean[key_timesteps] = timesteps_total_track\n",
    "timesteps_total_v_episode_len_mean[key_eps_len_mean] = episode_len_mean_track"
   ]
  },
  {
   "cell_type": "code",
   "execution_count": null,
   "id": "97c7560e-61b3-47e3-8fb5-3a3a4ed6d85b",
   "metadata": {},
   "outputs": [],
   "source": [
    "episode_mean_len_plot = sns.relplot(data=timesteps_total_v_episode_len_mean,x='timesteps_total',y='episode_len_mean',kind='line')\n",
    "episode_mean_len_plot.set_axis_labels(\"Timesteps\",\"Episode Length\")\n"
   ]
  },
  {
   "cell_type": "code",
   "execution_count": null,
   "id": "60ea72db-1720-4841-a5e6-0b6c7eca64ef",
   "metadata": {},
   "outputs": [],
   "source": [
    "timesteps_total_v_success_mean = pd.DataFrame()\n",
    "timesteps_total_v_success_mean[key_timesteps] = timesteps_total_track\n",
    "timesteps_total_v_success_mean['success_mean'] = success_mean_track"
   ]
  },
  {
   "cell_type": "code",
   "execution_count": null,
   "id": "f9d6311c-1abe-402c-a98a-83976264a8fc",
   "metadata": {},
   "outputs": [],
   "source": [
    "success_mean_plot = sns.relplot(data=timesteps_total_v_success_mean,x='timesteps_total',y='success_mean',kind='line')\n",
    "success_mean_plot.set_axis_labels(\"Timesteps\",\"Success Rate\") "
   ]
  },
  {
   "cell_type": "code",
   "execution_count": null,
   "id": "5a8005e7-71de-45f8-b54d-52333f33fc7a",
   "metadata": {},
   "outputs": [],
   "source": [
    "timesteps_total_v_episode_reward_mean = pd.DataFrame()\n",
    "timesteps_total_v_episode_reward_mean[key_timesteps] = timesteps_total_track\n",
    "timesteps_total_v_episode_reward_mean['episode_reward_mean'] = eps_reward_mean_track"
   ]
  },
  {
   "cell_type": "code",
   "execution_count": null,
   "id": "08d78f9d-2267-4724-bbae-dd6cc49dfeb8",
   "metadata": {},
   "outputs": [],
   "source": [
    "reward_plot = sns.relplot(data=timesteps_total_v_episode_reward_mean,x='timesteps_total',y='episode_reward_mean',kind='line')\n",
    "reward_plot.set_axis_labels(\"Timesteps\",\"Average Return\")"
   ]
  },
  {
   "cell_type": "code",
   "execution_count": null,
   "id": "8c6c5497-6538-4cc9-b8da-4538ec7533aa",
   "metadata": {},
   "outputs": [],
   "source": [
    "episode_mean_len_plot.savefig('docking2d_eps_len_plot.png',dpi=1200)\n",
    "success_mean_plot.savefig('docking2d_success_mean.png',dpi=1200)\n",
    "reward_plot.savefig('docking2d_reward_graph.png',dpi=1200)"
   ]
  },
  {
   "cell_type": "markdown",
   "id": "8704eb03-07aa-4896-ab17-02d8dd6156d7",
   "metadata": {},
   "source": [
    "## Constraint Violation Ratio Mean Graph"
   ]
  },
  {
   "cell_type": "code",
   "execution_count": null,
   "id": "73b2616e-3cfa-4b15-9dff-eeb703ec5a34",
   "metadata": {},
   "outputs": [],
   "source": [
    "key_timesteps = 'timesteps_total'\n",
    "key_const_viol = 'custom_metrics/constraint_violation.max_vel_constraint.ratio_mean'\n"
   ]
  },
  {
   "cell_type": "code",
   "execution_count": null,
   "id": "87b5f321-1490-4034-addf-5c156eb3a370",
   "metadata": {},
   "outputs": [],
   "source": [
    "plt.figure()\n",
    "plt.title('Steps vs Ratio Mean Constraint Violation')\n",
    "plt.ylabel('Ration Mean Constraint Violation')\n",
    "plt.xlabel('Number of steps')\n",
    "\n",
    "seed = 0\n",
    "for d in all_subdirs: \n",
    "    if d == 'training_logs':\n",
    "        continue\n",
    "    else: \n",
    "        seed_name = 'seed_' + str(seed)\n",
    "        csv_path = logdir + '/' + d + '/' + 'progress.csv'\n",
    "        data = pd.read_csv(csv_path)\n",
    "        steps = data['timesteps_total']\n",
    "        success_mean= data[key_const_viol]\n",
    "        plt.plot(steps,success_mean,label=seed_name)\n",
    "        seed = seed + 1\n",
    "\n",
    "plt.legend()\n"
   ]
  },
  {
   "cell_type": "code",
   "execution_count": null,
   "id": "4d4e4414-5e70-4746-b05f-17466b99d6ed",
   "metadata": {},
   "outputs": [],
   "source": []
  },
  {
   "cell_type": "code",
   "execution_count": null,
   "id": "a7941ec8-b026-4794-ac9d-2b3dc066c36b",
   "metadata": {},
   "outputs": [],
   "source": [
    "\n",
    "timesteps_total_track = []\n",
    "const_viol_ratio_track = []\n",
    "\n",
    "# dont need to walk through step by step , can just grab columns \n",
    "for ds in data_dfs: \n",
    "        timestep_total = ds[key_timesteps]\n",
    "        const_viol_ratio = ds[key_const_viol]\n",
    "        # interpolation functions\n",
    "        func_time_v_constraint = interpolate.interp1d(timestep_total,const_viol_ratio,fill_value='extrapolate')\n",
    "        interp_eps_len = func_time_v_constraint(clipped_timesteps)\n",
    "        \n",
    "        for i in clipped_timesteps:\n",
    "            timesteps_total_track.append(i)\n",
    "        for i in const_viol_ratio: \n",
    "            const_viol_ratio_track.append(i)"
   ]
  },
  {
   "cell_type": "code",
   "execution_count": null,
   "id": "162adf9b-d187-426e-a461-cc795eb8942e",
   "metadata": {},
   "outputs": [],
   "source": [
    "timesteps_total_v_constr_viol = pd.DataFrame()\n",
    "timesteps_total_v_constr_viol[key_timesteps] = timesteps_total_track\n",
    "timesteps_total_v_constr_viol['constr_viol'] = const_viol_ratio_track"
   ]
  },
  {
   "cell_type": "code",
   "execution_count": null,
   "id": "af56fb25-dee4-41e7-9ba6-8b719f217a68",
   "metadata": {},
   "outputs": [],
   "source": [
    "sns.set_theme()\n",
    "sns.set(font_scale=1.5)\n",
    "constr_viol_plot = sns.relplot(data=timesteps_total_v_constr_viol,x='timesteps_total',y='constr_viol',kind='line')\n",
    "constr_viol_plot.set_axis_labels(\"Timesteps\",\"Constraint Violation Ratio\")"
   ]
  },
  {
   "cell_type": "code",
   "execution_count": null,
   "id": "d188b984-d4d0-4478-8147-ff2a96abbdad",
   "metadata": {},
   "outputs": [],
   "source": [
    "constr_viol_plot.savefig('docking2d_constraint_violation.png',dpi=1200)"
   ]
  },
  {
   "cell_type": "markdown",
   "id": "438e9ca2-bc2d-4e68-9421-5b53348de829",
   "metadata": {},
   "source": [
    "## Graph - delta v vs timesteps"
   ]
  },
  {
   "cell_type": "code",
   "execution_count": null,
   "id": "19fc575c-9928-451c-831a-3836c6f29ebb",
   "metadata": {},
   "outputs": [],
   "source": [
    "data_dfs[0].columns"
   ]
  },
  {
   "cell_type": "code",
   "execution_count": null,
   "id": "312adec5-69cf-42ba-9221-497e1533dce2",
   "metadata": {},
   "outputs": [],
   "source": [
    "key_delta_v = 'custom_metrics/delta_v_total_mean'"
   ]
  },
  {
   "cell_type": "code",
   "execution_count": null,
   "id": "c2577c17-be96-4fe4-a1e9-b2afa914b11d",
   "metadata": {},
   "outputs": [],
   "source": [
    "plt.figure()\n",
    "plt.title('Steps vs Delta V')\n",
    "plt.ylabel('Delta V ')\n",
    "plt.xlabel('Number of steps')\n",
    "\n",
    "seed = 0\n",
    "for d in all_subdirs: \n",
    "    if d == 'training_logs':\n",
    "        continue\n",
    "    else: \n",
    "        seed_name = 'seed_' + str(seed)\n",
    "        csv_path = logdir + '/' + d + '/' + 'progress.csv'\n",
    "        data = pd.read_csv(csv_path)\n",
    "        steps = data['timesteps_total']\n",
    "        success_mean= data[key_delta_v]\n",
    "        plt.plot(steps,success_mean,label=seed_name)\n",
    "        seed = seed + 1\n",
    "\n",
    "plt.legend()\n"
   ]
  },
  {
   "cell_type": "code",
   "execution_count": null,
   "id": "939d77d3-5c40-4868-83e4-632073e7b18c",
   "metadata": {},
   "outputs": [],
   "source": [
    "data_dfs[0][key_delta_v].min()"
   ]
  },
  {
   "cell_type": "code",
   "execution_count": null,
   "id": "51a97ed9-d885-4847-93ee-2321810eadf8",
   "metadata": {},
   "outputs": [],
   "source": [
    "data_dfs[0][key_delta_v].max()"
   ]
  },
  {
   "cell_type": "code",
   "execution_count": null,
   "id": "7162a580-daf4-4edb-82d7-3882697d9673",
   "metadata": {},
   "outputs": [],
   "source": [
    "clipped_timesteps = data_dfs[8]['timesteps_total']\n",
    "timesteps_total_track = []\n",
    "delta_v_track = []\n",
    "\n",
    "# dont need to walk through step by step , can just grab columns \n",
    "for ds in data_dfs: \n",
    "        timestep_total = ds[key_timesteps]\n",
    "        delta_v_mean = ds[key_delta_v]\n",
    "        # interpolation functions\n",
    "        func_time_v_constraint = interpolate.interp1d(timestep_total,delta_v_mean,fill_value='extrapolate')\n",
    "        interp_delta_v = func_time_v_constraint(clipped_timesteps)\n",
    "        \n",
    "        for i in clipped_timesteps:\n",
    "            timesteps_total_track.append(i)\n",
    "        for i in interp_delta_v: \n",
    "            delta_v_track.append(i)"
   ]
  },
  {
   "cell_type": "code",
   "execution_count": null,
   "id": "7e93f08f-62a0-46fa-908d-8405efac3f8d",
   "metadata": {},
   "outputs": [],
   "source": [
    "timesteps_total_v_constr_viol = pd.DataFrame()\n",
    "timesteps_total_v_constr_viol[key_timesteps] = timesteps_total_track\n",
    "timesteps_total_v_constr_viol['delta_v'] = delta_v_track"
   ]
  },
  {
   "cell_type": "code",
   "execution_count": null,
   "id": "7007d206-fed7-479a-88d9-3a0838b5382e",
   "metadata": {},
   "outputs": [],
   "source": [
    "sns.set_theme()\n",
    "sns.set(font_scale=1.5)\n",
    "deltav_plot = sns.relplot(data=timesteps_total_v_constr_viol,x='timesteps_total',y='delta_v',kind='line')\n",
    "deltav_plot.set_axis_labels(\"Timesteps\",\"Delta V\")"
   ]
  },
  {
   "cell_type": "code",
   "execution_count": null,
   "id": "bee30db2-a8c6-4022-bb62-37b00d0f829b",
   "metadata": {},
   "outputs": [],
   "source": [
    "deltav_plot.savefig('docking2d_delta_v.png',dpi=1200)"
   ]
  }
 ],
 "metadata": {
  "kernelspec": {
   "display_name": "Python 3 (ipykernel)",
   "language": "python",
   "name": "python3"
  },
  "language_info": {
   "codemirror_mode": {
    "name": "ipython",
    "version": 3
   },
   "file_extension": ".py",
   "mimetype": "text/x-python",
   "name": "python",
   "nbconvert_exporter": "python",
   "pygments_lexer": "ipython3",
   "version": "3.9.6"
  }
 },
 "nbformat": 4,
 "nbformat_minor": 5
}
