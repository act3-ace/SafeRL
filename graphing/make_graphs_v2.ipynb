{
 "cells": [
  {
   "cell_type": "code",
   "execution_count": 60,
   "id": "e6cd082b-0149-44bf-946f-53f78687d8e6",
   "metadata": {},
   "outputs": [],
   "source": [
    "import argparse\n",
    "from ray.tune import Analysis\n",
    "import pandas as pd\n",
    "import os\n",
    "import numpy as np\n",
    "import matplotlib.pyplot as plt\n",
    "import seaborn as sns\n"
   ]
  },
  {
   "cell_type": "code",
   "execution_count": 5,
   "id": "d2b435c8-fb70-4589-ac77-7e1b02d94e83",
   "metadata": {},
   "outputs": [],
   "source": [
    "logdir = '/data/petabyte/safe_autonomy/ieee_aero_2022/experiments/rejoin_2d/expr_20210909_194211/'"
   ]
  },
  {
   "cell_type": "code",
   "execution_count": 6,
   "id": "1df29f6c-81e5-40a3-b276-b15af741875d",
   "metadata": {},
   "outputs": [],
   "source": [
    "all_subdirs = next(os.walk(logdir))[1]"
   ]
  },
  {
   "cell_type": "code",
   "execution_count": 7,
   "id": "dfa8db19-8e65-4eed-920d-c3b6e4ec3071",
   "metadata": {},
   "outputs": [
    {
     "data": {
      "text/plain": [
       "['PPO_DubinsRejoin_0920c_00004_4_seed=1862_2021-09-09_19-42-15',\n",
       " 'PPO_DubinsRejoin_0920c_00005_5_seed=66342_2021-09-09_19-42-15',\n",
       " 'PPO_DubinsRejoin_0920c_00002_2_seed=70972_2021-09-09_19-42-15',\n",
       " 'PPO_DubinsRejoin_0920c_00009_9_seed=14743_2021-09-09_19-42-15',\n",
       " 'PPO_DubinsRejoin_0920c_00000_0_seed=40578_2021-09-09_19-42-15',\n",
       " 'training_logs',\n",
       " 'PPO_DubinsRejoin_0920c_00001_1_seed=41411_2021-09-09_19-42-15',\n",
       " 'PPO_DubinsRejoin_0920c_00003_3_seed=39321_2021-09-09_19-42-15',\n",
       " 'PPO_DubinsRejoin_0920c_00008_8_seed=69688_2021-09-09_19-42-15',\n",
       " 'PPO_DubinsRejoin_0920c_00006_6_seed=29558_2021-09-09_19-42-15',\n",
       " 'PPO_DubinsRejoin_0920c_00007_7_seed=33790_2021-09-09_19-42-15']"
      ]
     },
     "execution_count": 4,
     "metadata": {},
     "output_type": "execute_result"
    }
   ],
   "source": [
    "all_subdirs"
   ]
  },
  {
   "cell_type": "code",
   "execution_count": 10,
   "id": "7ce836c8-6d25-488f-bf07-3b5b054ebbd3",
   "metadata": {},
   "outputs": [],
   "source": [
    "# preprocessing logic \n",
    "\n",
    "# keep track of all csv files\n",
    "csv_file_tracker = []\n",
    "for d in all_subdirs: \n",
    "    if d == 'training_logs':\n",
    "        continue\n",
    "    else: \n",
    "        csv_path = logdir + '/' + d + '/' + 'progress.csv'\n",
    "        csv_file_tracker.append(csv_path)\n"
   ]
  },
  {
   "cell_type": "code",
   "execution_count": 11,
   "id": "8de333df-5721-49f6-989d-1972ef2d1558",
   "metadata": {},
   "outputs": [
    {
     "data": {
      "text/plain": [
       "['/data/petabyte/safe_autonomy/ieee_aero_2022/experiments/rejoin_2d/expr_20210909_194211//PPO_DubinsRejoin_0920c_00004_4_seed=1862_2021-09-09_19-42-15/progress.csv',\n",
       " '/data/petabyte/safe_autonomy/ieee_aero_2022/experiments/rejoin_2d/expr_20210909_194211//PPO_DubinsRejoin_0920c_00005_5_seed=66342_2021-09-09_19-42-15/progress.csv',\n",
       " '/data/petabyte/safe_autonomy/ieee_aero_2022/experiments/rejoin_2d/expr_20210909_194211//PPO_DubinsRejoin_0920c_00002_2_seed=70972_2021-09-09_19-42-15/progress.csv',\n",
       " '/data/petabyte/safe_autonomy/ieee_aero_2022/experiments/rejoin_2d/expr_20210909_194211//PPO_DubinsRejoin_0920c_00009_9_seed=14743_2021-09-09_19-42-15/progress.csv',\n",
       " '/data/petabyte/safe_autonomy/ieee_aero_2022/experiments/rejoin_2d/expr_20210909_194211//PPO_DubinsRejoin_0920c_00000_0_seed=40578_2021-09-09_19-42-15/progress.csv',\n",
       " '/data/petabyte/safe_autonomy/ieee_aero_2022/experiments/rejoin_2d/expr_20210909_194211//PPO_DubinsRejoin_0920c_00001_1_seed=41411_2021-09-09_19-42-15/progress.csv',\n",
       " '/data/petabyte/safe_autonomy/ieee_aero_2022/experiments/rejoin_2d/expr_20210909_194211//PPO_DubinsRejoin_0920c_00003_3_seed=39321_2021-09-09_19-42-15/progress.csv',\n",
       " '/data/petabyte/safe_autonomy/ieee_aero_2022/experiments/rejoin_2d/expr_20210909_194211//PPO_DubinsRejoin_0920c_00008_8_seed=69688_2021-09-09_19-42-15/progress.csv',\n",
       " '/data/petabyte/safe_autonomy/ieee_aero_2022/experiments/rejoin_2d/expr_20210909_194211//PPO_DubinsRejoin_0920c_00006_6_seed=29558_2021-09-09_19-42-15/progress.csv',\n",
       " '/data/petabyte/safe_autonomy/ieee_aero_2022/experiments/rejoin_2d/expr_20210909_194211//PPO_DubinsRejoin_0920c_00007_7_seed=33790_2021-09-09_19-42-15/progress.csv']"
      ]
     },
     "execution_count": 6,
     "metadata": {},
     "output_type": "execute_result"
    }
   ],
   "source": [
    "csv_file_tracker"
   ]
  },
  {
   "cell_type": "code",
   "execution_count": 12,
   "id": "ebd881c4-4396-46f3-b2ba-f62af63fd72f",
   "metadata": {},
   "outputs": [],
   "source": [
    "data_dfs = [pd.read_csv(csv_file_tracker[i]) for i in range(len(csv_file_tracker))]"
   ]
  },
  {
   "cell_type": "code",
   "execution_count": 13,
   "id": "c0b8941c-3b01-4ecc-b5af-da4b11e4bc65",
   "metadata": {},
   "outputs": [
    {
     "data": {
      "text/html": [
       "<div>\n",
       "<style scoped>\n",
       "    .dataframe tbody tr th:only-of-type {\n",
       "        vertical-align: middle;\n",
       "    }\n",
       "\n",
       "    .dataframe tbody tr th {\n",
       "        vertical-align: top;\n",
       "    }\n",
       "\n",
       "    .dataframe thead th {\n",
       "        text-align: right;\n",
       "    }\n",
       "</style>\n",
       "<table border=\"1\" class=\"dataframe\">\n",
       "  <thead>\n",
       "    <tr style=\"text-align: right;\">\n",
       "      <th></th>\n",
       "      <th>episode_reward_max</th>\n",
       "      <th>episode_reward_min</th>\n",
       "      <th>episode_reward_mean</th>\n",
       "      <th>episode_len_mean</th>\n",
       "      <th>episodes_this_iter</th>\n",
       "      <th>num_healthy_workers</th>\n",
       "      <th>timesteps_total</th>\n",
       "      <th>done</th>\n",
       "      <th>episodes_total</th>\n",
       "      <th>training_iteration</th>\n",
       "      <th>...</th>\n",
       "      <th>perf/ram_util_percent</th>\n",
       "      <th>info/learner/default_policy/cur_kl_coeff</th>\n",
       "      <th>info/learner/default_policy/cur_lr</th>\n",
       "      <th>info/learner/default_policy/total_loss</th>\n",
       "      <th>info/learner/default_policy/policy_loss</th>\n",
       "      <th>info/learner/default_policy/vf_loss</th>\n",
       "      <th>info/learner/default_policy/vf_explained_var</th>\n",
       "      <th>info/learner/default_policy/kl</th>\n",
       "      <th>info/learner/default_policy/entropy</th>\n",
       "      <th>info/learner/default_policy/entropy_coeff</th>\n",
       "    </tr>\n",
       "  </thead>\n",
       "  <tbody>\n",
       "    <tr>\n",
       "      <th>0</th>\n",
       "      <td>-5.612750</td>\n",
       "      <td>-7.609310</td>\n",
       "      <td>-6.336753</td>\n",
       "      <td>498.500000</td>\n",
       "      <td>4</td>\n",
       "      <td>6</td>\n",
       "      <td>4800</td>\n",
       "      <td>False</td>\n",
       "      <td>4</td>\n",
       "      <td>1</td>\n",
       "      <td>...</td>\n",
       "      <td>7.9</td>\n",
       "      <td>0.2</td>\n",
       "      <td>0.00005</td>\n",
       "      <td>0.050991</td>\n",
       "      <td>-0.013490</td>\n",
       "      <td>0.061610</td>\n",
       "      <td>0.096543</td>\n",
       "      <td>0.014355</td>\n",
       "      <td>3.205072</td>\n",
       "      <td>0.0</td>\n",
       "    </tr>\n",
       "    <tr>\n",
       "      <th>1</th>\n",
       "      <td>-4.238926</td>\n",
       "      <td>-11.350897</td>\n",
       "      <td>-6.870156</td>\n",
       "      <td>552.428571</td>\n",
       "      <td>10</td>\n",
       "      <td>6</td>\n",
       "      <td>9600</td>\n",
       "      <td>False</td>\n",
       "      <td>14</td>\n",
       "      <td>2</td>\n",
       "      <td>...</td>\n",
       "      <td>8.0</td>\n",
       "      <td>0.2</td>\n",
       "      <td>0.00005</td>\n",
       "      <td>0.001858</td>\n",
       "      <td>-0.018365</td>\n",
       "      <td>0.016194</td>\n",
       "      <td>0.059092</td>\n",
       "      <td>0.020150</td>\n",
       "      <td>3.193400</td>\n",
       "      <td>0.0</td>\n",
       "    </tr>\n",
       "    <tr>\n",
       "      <th>2</th>\n",
       "      <td>-4.238926</td>\n",
       "      <td>-11.350897</td>\n",
       "      <td>-7.086424</td>\n",
       "      <td>574.857143</td>\n",
       "      <td>7</td>\n",
       "      <td>6</td>\n",
       "      <td>14400</td>\n",
       "      <td>False</td>\n",
       "      <td>21</td>\n",
       "      <td>3</td>\n",
       "      <td>...</td>\n",
       "      <td>8.0</td>\n",
       "      <td>0.3</td>\n",
       "      <td>0.00005</td>\n",
       "      <td>-0.010336</td>\n",
       "      <td>-0.015273</td>\n",
       "      <td>0.001043</td>\n",
       "      <td>0.482162</td>\n",
       "      <td>0.012979</td>\n",
       "      <td>3.166509</td>\n",
       "      <td>0.0</td>\n",
       "    </tr>\n",
       "    <tr>\n",
       "      <th>3</th>\n",
       "      <td>-4.238926</td>\n",
       "      <td>-11.350897</td>\n",
       "      <td>-7.635164</td>\n",
       "      <td>632.115385</td>\n",
       "      <td>5</td>\n",
       "      <td>6</td>\n",
       "      <td>19200</td>\n",
       "      <td>False</td>\n",
       "      <td>26</td>\n",
       "      <td>4</td>\n",
       "      <td>...</td>\n",
       "      <td>8.0</td>\n",
       "      <td>0.3</td>\n",
       "      <td>0.00005</td>\n",
       "      <td>-0.024294</td>\n",
       "      <td>-0.030250</td>\n",
       "      <td>0.000398</td>\n",
       "      <td>0.660538</td>\n",
       "      <td>0.018525</td>\n",
       "      <td>3.119249</td>\n",
       "      <td>0.0</td>\n",
       "    </tr>\n",
       "    <tr>\n",
       "      <th>4</th>\n",
       "      <td>-4.238926</td>\n",
       "      <td>-11.350897</td>\n",
       "      <td>-8.086624</td>\n",
       "      <td>681.300000</td>\n",
       "      <td>4</td>\n",
       "      <td>6</td>\n",
       "      <td>24000</td>\n",
       "      <td>False</td>\n",
       "      <td>30</td>\n",
       "      <td>5</td>\n",
       "      <td>...</td>\n",
       "      <td>8.0</td>\n",
       "      <td>0.3</td>\n",
       "      <td>0.00005</td>\n",
       "      <td>-0.022795</td>\n",
       "      <td>-0.028597</td>\n",
       "      <td>0.000153</td>\n",
       "      <td>0.399877</td>\n",
       "      <td>0.018829</td>\n",
       "      <td>3.099231</td>\n",
       "      <td>0.0</td>\n",
       "    </tr>\n",
       "    <tr>\n",
       "      <th>...</th>\n",
       "      <td>...</td>\n",
       "      <td>...</td>\n",
       "      <td>...</td>\n",
       "      <td>...</td>\n",
       "      <td>...</td>\n",
       "      <td>...</td>\n",
       "      <td>...</td>\n",
       "      <td>...</td>\n",
       "      <td>...</td>\n",
       "      <td>...</td>\n",
       "      <td>...</td>\n",
       "      <td>...</td>\n",
       "      <td>...</td>\n",
       "      <td>...</td>\n",
       "      <td>...</td>\n",
       "      <td>...</td>\n",
       "      <td>...</td>\n",
       "      <td>...</td>\n",
       "      <td>...</td>\n",
       "      <td>...</td>\n",
       "      <td>...</td>\n",
       "    </tr>\n",
       "    <tr>\n",
       "      <th>195</th>\n",
       "      <td>2.898855</td>\n",
       "      <td>0.868836</td>\n",
       "      <td>2.216001</td>\n",
       "      <td>108.360000</td>\n",
       "      <td>46</td>\n",
       "      <td>6</td>\n",
       "      <td>940800</td>\n",
       "      <td>False</td>\n",
       "      <td>7458</td>\n",
       "      <td>196</td>\n",
       "      <td>...</td>\n",
       "      <td>8.0</td>\n",
       "      <td>0.3</td>\n",
       "      <td>0.00005</td>\n",
       "      <td>-0.005238</td>\n",
       "      <td>-0.028190</td>\n",
       "      <td>0.019635</td>\n",
       "      <td>0.965110</td>\n",
       "      <td>0.011055</td>\n",
       "      <td>1.653859</td>\n",
       "      <td>0.0</td>\n",
       "    </tr>\n",
       "    <tr>\n",
       "      <th>196</th>\n",
       "      <td>2.827167</td>\n",
       "      <td>0.868836</td>\n",
       "      <td>2.170551</td>\n",
       "      <td>113.150000</td>\n",
       "      <td>37</td>\n",
       "      <td>6</td>\n",
       "      <td>945600</td>\n",
       "      <td>False</td>\n",
       "      <td>7495</td>\n",
       "      <td>197</td>\n",
       "      <td>...</td>\n",
       "      <td>8.0</td>\n",
       "      <td>0.3</td>\n",
       "      <td>0.00005</td>\n",
       "      <td>-0.015029</td>\n",
       "      <td>-0.029098</td>\n",
       "      <td>0.011012</td>\n",
       "      <td>0.981737</td>\n",
       "      <td>0.010190</td>\n",
       "      <td>1.643331</td>\n",
       "      <td>0.0</td>\n",
       "    </tr>\n",
       "    <tr>\n",
       "      <th>197</th>\n",
       "      <td>2.844852</td>\n",
       "      <td>0.625845</td>\n",
       "      <td>2.115012</td>\n",
       "      <td>119.310000</td>\n",
       "      <td>41</td>\n",
       "      <td>6</td>\n",
       "      <td>950400</td>\n",
       "      <td>False</td>\n",
       "      <td>7536</td>\n",
       "      <td>198</td>\n",
       "      <td>...</td>\n",
       "      <td>8.0</td>\n",
       "      <td>0.3</td>\n",
       "      <td>0.00005</td>\n",
       "      <td>-0.009998</td>\n",
       "      <td>-0.030144</td>\n",
       "      <td>0.016531</td>\n",
       "      <td>0.975683</td>\n",
       "      <td>0.012049</td>\n",
       "      <td>1.610524</td>\n",
       "      <td>0.0</td>\n",
       "    </tr>\n",
       "    <tr>\n",
       "      <th>198</th>\n",
       "      <td>2.844852</td>\n",
       "      <td>0.625845</td>\n",
       "      <td>2.149121</td>\n",
       "      <td>115.840000</td>\n",
       "      <td>43</td>\n",
       "      <td>6</td>\n",
       "      <td>955200</td>\n",
       "      <td>False</td>\n",
       "      <td>7579</td>\n",
       "      <td>199</td>\n",
       "      <td>...</td>\n",
       "      <td>8.0</td>\n",
       "      <td>0.3</td>\n",
       "      <td>0.00005</td>\n",
       "      <td>-0.006580</td>\n",
       "      <td>-0.029347</td>\n",
       "      <td>0.019702</td>\n",
       "      <td>0.963161</td>\n",
       "      <td>0.010218</td>\n",
       "      <td>1.603113</td>\n",
       "      <td>0.0</td>\n",
       "    </tr>\n",
       "    <tr>\n",
       "      <th>199</th>\n",
       "      <td>2.766132</td>\n",
       "      <td>0.829947</td>\n",
       "      <td>2.132799</td>\n",
       "      <td>117.350000</td>\n",
       "      <td>38</td>\n",
       "      <td>6</td>\n",
       "      <td>960000</td>\n",
       "      <td>True</td>\n",
       "      <td>7617</td>\n",
       "      <td>200</td>\n",
       "      <td>...</td>\n",
       "      <td>8.0</td>\n",
       "      <td>0.3</td>\n",
       "      <td>0.00005</td>\n",
       "      <td>-0.014995</td>\n",
       "      <td>-0.031477</td>\n",
       "      <td>0.013139</td>\n",
       "      <td>0.981051</td>\n",
       "      <td>0.011146</td>\n",
       "      <td>1.629517</td>\n",
       "      <td>0.0</td>\n",
       "    </tr>\n",
       "  </tbody>\n",
       "</table>\n",
       "<p>200 rows × 81 columns</p>\n",
       "</div>"
      ],
      "text/plain": [
       "     episode_reward_max  episode_reward_min  episode_reward_mean  \\\n",
       "0             -5.612750           -7.609310            -6.336753   \n",
       "1             -4.238926          -11.350897            -6.870156   \n",
       "2             -4.238926          -11.350897            -7.086424   \n",
       "3             -4.238926          -11.350897            -7.635164   \n",
       "4             -4.238926          -11.350897            -8.086624   \n",
       "..                  ...                 ...                  ...   \n",
       "195            2.898855            0.868836             2.216001   \n",
       "196            2.827167            0.868836             2.170551   \n",
       "197            2.844852            0.625845             2.115012   \n",
       "198            2.844852            0.625845             2.149121   \n",
       "199            2.766132            0.829947             2.132799   \n",
       "\n",
       "     episode_len_mean  episodes_this_iter  num_healthy_workers  \\\n",
       "0          498.500000                   4                    6   \n",
       "1          552.428571                  10                    6   \n",
       "2          574.857143                   7                    6   \n",
       "3          632.115385                   5                    6   \n",
       "4          681.300000                   4                    6   \n",
       "..                ...                 ...                  ...   \n",
       "195        108.360000                  46                    6   \n",
       "196        113.150000                  37                    6   \n",
       "197        119.310000                  41                    6   \n",
       "198        115.840000                  43                    6   \n",
       "199        117.350000                  38                    6   \n",
       "\n",
       "     timesteps_total   done  episodes_total  training_iteration  ...  \\\n",
       "0               4800  False               4                   1  ...   \n",
       "1               9600  False              14                   2  ...   \n",
       "2              14400  False              21                   3  ...   \n",
       "3              19200  False              26                   4  ...   \n",
       "4              24000  False              30                   5  ...   \n",
       "..               ...    ...             ...                 ...  ...   \n",
       "195           940800  False            7458                 196  ...   \n",
       "196           945600  False            7495                 197  ...   \n",
       "197           950400  False            7536                 198  ...   \n",
       "198           955200  False            7579                 199  ...   \n",
       "199           960000   True            7617                 200  ...   \n",
       "\n",
       "    perf/ram_util_percent info/learner/default_policy/cur_kl_coeff  \\\n",
       "0                     7.9                                      0.2   \n",
       "1                     8.0                                      0.2   \n",
       "2                     8.0                                      0.3   \n",
       "3                     8.0                                      0.3   \n",
       "4                     8.0                                      0.3   \n",
       "..                    ...                                      ...   \n",
       "195                   8.0                                      0.3   \n",
       "196                   8.0                                      0.3   \n",
       "197                   8.0                                      0.3   \n",
       "198                   8.0                                      0.3   \n",
       "199                   8.0                                      0.3   \n",
       "\n",
       "     info/learner/default_policy/cur_lr  \\\n",
       "0                               0.00005   \n",
       "1                               0.00005   \n",
       "2                               0.00005   \n",
       "3                               0.00005   \n",
       "4                               0.00005   \n",
       "..                                  ...   \n",
       "195                             0.00005   \n",
       "196                             0.00005   \n",
       "197                             0.00005   \n",
       "198                             0.00005   \n",
       "199                             0.00005   \n",
       "\n",
       "     info/learner/default_policy/total_loss  \\\n",
       "0                                  0.050991   \n",
       "1                                  0.001858   \n",
       "2                                 -0.010336   \n",
       "3                                 -0.024294   \n",
       "4                                 -0.022795   \n",
       "..                                      ...   \n",
       "195                               -0.005238   \n",
       "196                               -0.015029   \n",
       "197                               -0.009998   \n",
       "198                               -0.006580   \n",
       "199                               -0.014995   \n",
       "\n",
       "     info/learner/default_policy/policy_loss  \\\n",
       "0                                  -0.013490   \n",
       "1                                  -0.018365   \n",
       "2                                  -0.015273   \n",
       "3                                  -0.030250   \n",
       "4                                  -0.028597   \n",
       "..                                       ...   \n",
       "195                                -0.028190   \n",
       "196                                -0.029098   \n",
       "197                                -0.030144   \n",
       "198                                -0.029347   \n",
       "199                                -0.031477   \n",
       "\n",
       "     info/learner/default_policy/vf_loss  \\\n",
       "0                               0.061610   \n",
       "1                               0.016194   \n",
       "2                               0.001043   \n",
       "3                               0.000398   \n",
       "4                               0.000153   \n",
       "..                                   ...   \n",
       "195                             0.019635   \n",
       "196                             0.011012   \n",
       "197                             0.016531   \n",
       "198                             0.019702   \n",
       "199                             0.013139   \n",
       "\n",
       "    info/learner/default_policy/vf_explained_var  \\\n",
       "0                                       0.096543   \n",
       "1                                       0.059092   \n",
       "2                                       0.482162   \n",
       "3                                       0.660538   \n",
       "4                                       0.399877   \n",
       "..                                           ...   \n",
       "195                                     0.965110   \n",
       "196                                     0.981737   \n",
       "197                                     0.975683   \n",
       "198                                     0.963161   \n",
       "199                                     0.981051   \n",
       "\n",
       "    info/learner/default_policy/kl  info/learner/default_policy/entropy  \\\n",
       "0                         0.014355                             3.205072   \n",
       "1                         0.020150                             3.193400   \n",
       "2                         0.012979                             3.166509   \n",
       "3                         0.018525                             3.119249   \n",
       "4                         0.018829                             3.099231   \n",
       "..                             ...                                  ...   \n",
       "195                       0.011055                             1.653859   \n",
       "196                       0.010190                             1.643331   \n",
       "197                       0.012049                             1.610524   \n",
       "198                       0.010218                             1.603113   \n",
       "199                       0.011146                             1.629517   \n",
       "\n",
       "     info/learner/default_policy/entropy_coeff  \n",
       "0                                          0.0  \n",
       "1                                          0.0  \n",
       "2                                          0.0  \n",
       "3                                          0.0  \n",
       "4                                          0.0  \n",
       "..                                         ...  \n",
       "195                                        0.0  \n",
       "196                                        0.0  \n",
       "197                                        0.0  \n",
       "198                                        0.0  \n",
       "199                                        0.0  \n",
       "\n",
       "[200 rows x 81 columns]"
      ]
     },
     "execution_count": 8,
     "metadata": {},
     "output_type": "execute_result"
    }
   ],
   "source": [
    "data_dfs[0]"
   ]
  },
  {
   "cell_type": "code",
   "execution_count": 19,
   "id": "7aa383ce-33ad-47ee-ac14-ca91f86c4454",
   "metadata": {},
   "outputs": [
    {
     "data": {
      "text/plain": [
       "episode_reward_max                              -5.61275\n",
       "episode_reward_min                              -7.60931\n",
       "episode_reward_mean                            -6.336753\n",
       "episode_len_mean                                   498.5\n",
       "episodes_this_iter                                     4\n",
       "                                                  ...   \n",
       "info/learner/default_policy/vf_loss              0.06161\n",
       "info/learner/default_policy/vf_explained_var    0.096543\n",
       "info/learner/default_policy/kl                  0.014355\n",
       "info/learner/default_policy/entropy             3.205072\n",
       "info/learner/default_policy/entropy_coeff            0.0\n",
       "Name: 0, Length: 81, dtype: object"
      ]
     },
     "execution_count": 9,
     "metadata": {},
     "output_type": "execute_result"
    }
   ],
   "source": [
    "data_dfs[0].iloc[0]\n"
   ]
  },
  {
   "cell_type": "code",
   "execution_count": 21,
   "id": "534a893d-cb6e-4d13-abb6-f2c783f897a4",
   "metadata": {},
   "outputs": [
    {
     "data": {
      "text/plain": [
       "498.5"
      ]
     },
     "execution_count": 10,
     "metadata": {},
     "output_type": "execute_result"
    }
   ],
   "source": [
    "data_dfs[0].iloc[0][3]"
   ]
  },
  {
   "cell_type": "code",
   "execution_count": 27,
   "id": "658ab660-bb1a-4618-870f-a3229a339980",
   "metadata": {},
   "outputs": [
    {
     "data": {
      "text/plain": [
       "Index(['episode_reward_max', 'episode_reward_min', 'episode_reward_mean',\n",
       "       'episode_len_mean', 'episodes_this_iter', 'num_healthy_workers',\n",
       "       'timesteps_total', 'done', 'episodes_total', 'training_iteration',\n",
       "       'experiment_id', 'date', 'timestamp', 'time_this_iter_s',\n",
       "       'time_total_s', 'pid', 'hostname', 'node_ip', 'time_since_restore',\n",
       "       'timesteps_since_restore', 'iterations_since_restore', 'trial_id',\n",
       "       'custom_metrics/outcome/success_mean',\n",
       "       'custom_metrics/outcome/success_min',\n",
       "       'custom_metrics/outcome/success_max',\n",
       "       'custom_metrics/outcome/failure_mean',\n",
       "       'custom_metrics/outcome/failure_min',\n",
       "       'custom_metrics/outcome/failure_max',\n",
       "       'custom_metrics/failure_code_ratio/timeout_mean',\n",
       "       'custom_metrics/failure_code_ratio/timeout_min',\n",
       "       'custom_metrics/failure_code_ratio/timeout_max',\n",
       "       'custom_metrics/failure_code_ratio/distance_mean',\n",
       "       'custom_metrics/failure_code_ratio/distance_min',\n",
       "       'custom_metrics/failure_code_ratio/distance_max',\n",
       "       'custom_metrics/failure_code_ratio/crash_mean',\n",
       "       'custom_metrics/failure_code_ratio/crash_min',\n",
       "       'custom_metrics/failure_code_ratio/crash_max',\n",
       "       'custom_metrics/reward_component_totals/rejoin_reward_mean',\n",
       "       'custom_metrics/reward_component_totals/rejoin_reward_min',\n",
       "       'custom_metrics/reward_component_totals/rejoin_reward_max',\n",
       "       'custom_metrics/reward_component_totals/rejoin_first_time_reward_mean',\n",
       "       'custom_metrics/reward_component_totals/rejoin_first_time_reward_min',\n",
       "       'custom_metrics/reward_component_totals/rejoin_first_time_reward_max',\n",
       "       'custom_metrics/reward_component_totals/time_reward_mean',\n",
       "       'custom_metrics/reward_component_totals/time_reward_min',\n",
       "       'custom_metrics/reward_component_totals/time_reward_max',\n",
       "       'custom_metrics/reward_component_totals/rejoin_dist_change_reward_mean',\n",
       "       'custom_metrics/reward_component_totals/rejoin_dist_change_reward_min',\n",
       "       'custom_metrics/reward_component_totals/rejoin_dist_change_reward_max',\n",
       "       'custom_metrics/reward_component_totals/failure_reward_mean',\n",
       "       'custom_metrics/reward_component_totals/failure_reward_min',\n",
       "       'custom_metrics/reward_component_totals/failure_reward_max',\n",
       "       'custom_metrics/reward_component_totals/success_reward_mean',\n",
       "       'custom_metrics/reward_component_totals/success_reward_min',\n",
       "       'custom_metrics/reward_component_totals/success_reward_max',\n",
       "       'hist_stats/episode_reward', 'hist_stats/episode_lengths',\n",
       "       'sampler_perf/mean_env_wait_ms',\n",
       "       'sampler_perf/mean_raw_obs_processing_ms',\n",
       "       'sampler_perf/mean_inference_ms',\n",
       "       'sampler_perf/mean_action_processing_ms', 'timers/sample_time_ms',\n",
       "       'timers/sample_throughput', 'timers/load_time_ms',\n",
       "       'timers/load_throughput', 'timers/learn_time_ms',\n",
       "       'timers/learn_throughput', 'timers/update_time_ms',\n",
       "       'info/num_steps_sampled', 'info/num_steps_trained',\n",
       "       'perf/cpu_util_percent', 'perf/ram_util_percent',\n",
       "       'info/learner/default_policy/cur_kl_coeff',\n",
       "       'info/learner/default_policy/cur_lr',\n",
       "       'info/learner/default_policy/total_loss',\n",
       "       'info/learner/default_policy/policy_loss',\n",
       "       'info/learner/default_policy/vf_loss',\n",
       "       'info/learner/default_policy/vf_explained_var',\n",
       "       'info/learner/default_policy/kl', 'info/learner/default_policy/entropy',\n",
       "       'info/learner/default_policy/entropy_coeff'],\n",
       "      dtype='object')"
      ]
     },
     "execution_count": 11,
     "metadata": {},
     "output_type": "execute_result"
    }
   ],
   "source": [
    "data_dfs[0].columns\n",
    "# pos of time_step is 6\n",
    "# pos of "
   ]
  },
  {
   "cell_type": "code",
   "execution_count": 30,
   "id": "101af4f2-84ad-4008-9c4d-168f216c2926",
   "metadata": {},
   "outputs": [
    {
     "data": {
      "text/plain": [
       "4800"
      ]
     },
     "execution_count": 12,
     "metadata": {},
     "output_type": "execute_result"
    }
   ],
   "source": [
    "data_dfs[0].iloc[[0]]['timesteps_total'][0]"
   ]
  },
  {
   "cell_type": "code",
   "execution_count": 50,
   "id": "9197edb2-1492-4460-b89a-6d542a56f8d0",
   "metadata": {},
   "outputs": [
    {
     "data": {
      "text/plain": [
       "669.475"
      ]
     },
     "execution_count": 13,
     "metadata": {},
     "output_type": "execute_result"
    }
   ],
   "source": [
    "ds = data_dfs[0]\n",
    "i = 0\n",
    "val = ds.iloc[[5]]['episode_len_mean'][5]\n",
    "val"
   ]
  },
  {
   "cell_type": "code",
   "execution_count": 68,
   "id": "7b56d0df-9163-4cf2-896e-1181583ddc3d",
   "metadata": {},
   "outputs": [],
   "source": [
    "# consume one df at a time\n",
    "# fill up appropriate values \n",
    "key_timesteps = 'timesteps_total'\n",
    "key_eps_len_mean = 'episode_len_mean'\n",
    "key_success_mean = 'custom_metrics/outcome/success_mean'\n",
    "key_eps_reward_mean = 'episode_reward_mean'\n",
    "\n",
    "\n",
    "timesteps_total_track = []\n",
    "episode_len_mean_track = []\n",
    "success_mean_track = []\n",
    "eps_reward_mean_track = []\n",
    "\n",
    "for ds in data_dfs: \n",
    "    for i in range(ds.shape[0]):                \n",
    "        timestep_total = ds.iloc[[i]][key_timesteps][i]\n",
    "        episode_len_mean = ds.iloc[[i]][key_eps_len_mean][i]\n",
    "        success_mean = ds.iloc[[i]][key_success_mean][i]\n",
    "        reward_mean = ds.iloc[[i]][key_eps_reward_mean][i]\n",
    "        \n",
    "        timesteps_total_track.append(timestep_total)\n",
    "        episode_len_mean_track.append(episode_len_mean)\n",
    "        success_mean_track.append(success_mean)\n",
    "        eps_reward_mean_track.append(reward_mean)\n",
    "\n",
    "\n",
    "\n",
    "\n"
   ]
  },
  {
   "cell_type": "code",
   "execution_count": 69,
   "id": "1ce231a4-406f-48f3-b88d-34e7e5797fec",
   "metadata": {},
   "outputs": [],
   "source": [
    "timesteps_total_v_episode_len_mean = pd.DataFrame()\n",
    "timesteps_total_v_episode_len_mean[key_timesteps] = timesteps_total_track\n",
    "timesteps_total_v_episode_len_mean[key_eps_len_mean] = episode_len_mean_track"
   ]
  },
  {
   "cell_type": "code",
   "execution_count": 70,
   "id": "95a53628-d325-4747-bdaa-07626480de35",
   "metadata": {},
   "outputs": [
    {
     "data": {
      "text/plain": [
       "Text(0.5, 0.98, 'Rejoin 2D Episode Length')"
      ]
     },
     "execution_count": 70,
     "metadata": {},
     "output_type": "execute_result"
    },
    {
     "data": {
      "image/png": "[encoded data removed]",
      "text/plain": [
       "<Figure size 360x360 with 1 Axes>"
      ]
     },
     "metadata": {
      "needs_background": "light"
     },
     "output_type": "display_data"
    }
   ],
   "source": [
    "episode_mean_len_plot = sns.relplot(data=timesteps_total_v_episode_len_mean,x='timesteps_total',y='episode_len_mean',ci='sd',kind='line')\n",
    "episode_mean_len_plot.set_axis_labels(\"Timesteps\",\"Episode Length\")\n",
    "episode_mean_len_plot.fig.suptitle(\"Rejoin 2D Episode Length\")\n"
   ]
  },
  {
   "cell_type": "code",
   "execution_count": 71,
   "id": "4b1ef021-06e3-4e1a-8719-a89145960f7e",
   "metadata": {},
   "outputs": [],
   "source": [
    "timesteps_total_v_success_mean = pd.DataFrame()\n",
    "timesteps_total_v_success_mean[key_timesteps] = timesteps_total_track\n",
    "timesteps_total_v_success_mean['success_mean'] = success_mean_track"
   ]
  },
  {
   "cell_type": "code",
   "execution_count": 72,
   "id": "f1b4ddc5-a3b0-470e-9b85-517131e196d6",
   "metadata": {},
   "outputs": [
    {
     "data": {
      "text/plain": [
       "Text(0.5, 0.98, 'Rejoin 2D Success Rate')"
      ]
     },
     "execution_count": 72,
     "metadata": {},
     "output_type": "execute_result"
    },
    {
     "data": {
      "image/png": "[encoded data removed]",
      "text/plain": [
       "<Figure size 360x360 with 1 Axes>"
      ]
     },
     "metadata": {
      "needs_background": "light"
     },
     "output_type": "display_data"
    }
   ],
   "source": [
    "success_mean_plot = sns.relplot(data=timesteps_total_v_success_mean,x='timesteps_total',y='success_mean',ci='sd',kind='line')\n",
    "success_mean_plot.set_axis_labels(\"Timestep\",\"Success Rate\")\n",
    "success_mean_plot.fig.suptitle(\"Rejoin 2D Success Rate\") "
   ]
  },
  {
   "cell_type": "code",
   "execution_count": 74,
   "id": "040d2d18-cbef-4241-8af2-48f4e93962d9",
   "metadata": {},
   "outputs": [],
   "source": [
    "timesteps_total_v_episode_reward_mean = pd.DataFrame()\n",
    "timesteps_total_v_episode_reward_mean[key_timesteps] = timesteps_total_track\n",
    "timesteps_total_v_episode_reward_mean['episode_reward_mean'] = eps_reward_mean_track\n"
   ]
  },
  {
   "cell_type": "code",
   "execution_count": 82,
   "id": "4085a42f-773b-48ca-bd23-96d2bae70794",
   "metadata": {},
   "outputs": [
    {
     "data": {
      "text/plain": [
       "Text(0.5, 0.98, 'Rejoin 2D - Average Return Over Time')"
      ]
     },
     "execution_count": 82,
     "metadata": {},
     "output_type": "execute_result"
    },
    {
     "data": {
      "image/png": "[encoded data removed]",
      "text/plain": [
       "<Figure size 360x360 with 1 Axes>"
      ]
     },
     "metadata": {
      "needs_background": "light"
     },
     "output_type": "display_data"
    }
   ],
   "source": [
    "reward_plot = sns.relplot(data=timesteps_total_v_episode_reward_mean,x='timesteps_total',y='episode_reward_mean',ci='sd',kind='line')\n",
    "reward_plot.set_axis_labels(\"Timestep\",\"Average Return\")\n",
    "reward_plot.fig.suptitle(\"Rejoin 2D - Average Return Over Time\") "
   ]
  },
  {
   "cell_type": "code",
   "execution_count": 93,
   "id": "efab2a4c-d6cd-4081-89d6-0df311d34805",
   "metadata": {},
   "outputs": [],
   "source": [
    "episode_mean_len_plot.savefig('rejoin2D_episode_len_graph.png')\n",
    "success_mean_plot.savefig('rejoin2D_success_rate_graph.png')\n",
    "reward_plot.savefig('rejoin2D_reward_graph.png')"
   ]
  },
  {
   "cell_type": "code",
   "execution_count": null,
   "id": "896165ab-f48c-42ff-a314-4df91790798d",
   "metadata": {},
   "outputs": [],
   "source": []
  }
 ],
 "metadata": {
  "kernelspec": {
   "display_name": "saferl_graph_env",
   "language": "python",
   "name": "saferl_graph_env"
  },
  "language_info": {
   "codemirror_mode": {
    "name": "ipython",
    "version": 3
   },
   "file_extension": ".py",
   "mimetype": "text/x-python",
   "name": "python",
   "nbconvert_exporter": "python",
   "pygments_lexer": "ipython3",
   "version": "3.7.10"
  }
 },
 "nbformat": 4,
 "nbformat_minor": 5
}
