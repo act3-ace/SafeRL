{
 "cells": [
  {
   "cell_type": "code",
   "execution_count": 3,
   "id": "6fe7d64b",
   "metadata": {},
   "outputs": [],
   "source": [
    "import argparse\n",
    "from ray.tune import Analysis\n",
    "import pandas as pd\n",
    "import os\n",
    "import numpy as np\n",
    "import matplotlib.pyplot as plt\n",
    "import seaborn as sns\n",
    "import scipy \n",
    "import pdb "
   ]
  },
  {
   "cell_type": "code",
   "execution_count": 4,
   "id": "593d5250",
   "metadata": {},
   "outputs": [],
   "source": [
    "logdir = '/home/vgangal/Downloads/expr_20210914_005226'"
   ]
  },
  {
   "cell_type": "code",
   "execution_count": 5,
   "id": "a221ca59",
   "metadata": {},
   "outputs": [],
   "source": [
    "all_subdirs = next(os.walk(logdir))[1]"
   ]
  },
  {
   "cell_type": "code",
   "execution_count": 6,
   "id": "3372342e",
   "metadata": {},
   "outputs": [],
   "source": [
    "# preprocessing logic \n",
    "\n",
    "# keep track of all csv files\n",
    "csv_file_tracker = []\n",
    "for d in all_subdirs: \n",
    "    if d == 'training_logs':\n",
    "        continue\n",
    "    else: \n",
    "        csv_path = logdir + '/' + d + '/' + 'progress.csv'\n",
    "        csv_file_tracker.append(csv_path)\n"
   ]
  },
  {
   "cell_type": "code",
   "execution_count": 7,
   "id": "04e7d4e4",
   "metadata": {},
   "outputs": [],
   "source": [
    "data_dfs = [pd.read_csv(csv_file_tracker[i]) for i in range(len(csv_file_tracker))]"
   ]
  },
  {
   "cell_type": "code",
   "execution_count": 9,
   "id": "a54a2b70",
   "metadata": {},
   "outputs": [],
   "source": [
    "col_names = list(data_dfs[0].columns)"
   ]
  },
  {
   "cell_type": "code",
   "execution_count": 10,
   "id": "7099499f",
   "metadata": {},
   "outputs": [
    {
     "data": {
      "text/plain": [
       "['episode_reward_max',\n",
       " 'episode_reward_min',\n",
       " 'episode_reward_mean',\n",
       " 'episode_len_mean',\n",
       " 'episodes_this_iter',\n",
       " 'num_healthy_workers',\n",
       " 'timesteps_total',\n",
       " 'done',\n",
       " 'episodes_total',\n",
       " 'training_iteration',\n",
       " 'experiment_id',\n",
       " 'date',\n",
       " 'timestamp',\n",
       " 'time_this_iter_s',\n",
       " 'time_total_s',\n",
       " 'pid',\n",
       " 'hostname',\n",
       " 'node_ip',\n",
       " 'time_since_restore',\n",
       " 'timesteps_since_restore',\n",
       " 'iterations_since_restore',\n",
       " 'trial_id',\n",
       " 'custom_metrics/outcome/success_mean',\n",
       " 'custom_metrics/outcome/success_min',\n",
       " 'custom_metrics/outcome/success_max',\n",
       " 'custom_metrics/outcome/failure_mean',\n",
       " 'custom_metrics/outcome/failure_min',\n",
       " 'custom_metrics/outcome/failure_max',\n",
       " 'custom_metrics/failure_code_ratio/timeout_mean',\n",
       " 'custom_metrics/failure_code_ratio/timeout_min',\n",
       " 'custom_metrics/failure_code_ratio/timeout_max',\n",
       " 'custom_metrics/failure_code_ratio/distance_mean',\n",
       " 'custom_metrics/failure_code_ratio/distance_min',\n",
       " 'custom_metrics/failure_code_ratio/distance_max',\n",
       " 'custom_metrics/failure_code_ratio/crash_mean',\n",
       " 'custom_metrics/failure_code_ratio/crash_min',\n",
       " 'custom_metrics/failure_code_ratio/crash_max',\n",
       " 'custom_metrics/reward_component_totals/time_reward_mean',\n",
       " 'custom_metrics/reward_component_totals/time_reward_min',\n",
       " 'custom_metrics/reward_component_totals/time_reward_max',\n",
       " 'custom_metrics/reward_component_totals/dist_change_reward_mean',\n",
       " 'custom_metrics/reward_component_totals/dist_change_reward_min',\n",
       " 'custom_metrics/reward_component_totals/dist_change_reward_max',\n",
       " 'custom_metrics/reward_component_totals/delta_v_mean',\n",
       " 'custom_metrics/reward_component_totals/delta_v_min',\n",
       " 'custom_metrics/reward_component_totals/delta_v_max',\n",
       " 'custom_metrics/reward_component_totals/max_vel_constraint_mean',\n",
       " 'custom_metrics/reward_component_totals/max_vel_constraint_min',\n",
       " 'custom_metrics/reward_component_totals/max_vel_constraint_max',\n",
       " 'custom_metrics/reward_component_totals/failure_reward_mean',\n",
       " 'custom_metrics/reward_component_totals/failure_reward_min',\n",
       " 'custom_metrics/reward_component_totals/failure_reward_max',\n",
       " 'custom_metrics/reward_component_totals/success_reward_mean',\n",
       " 'custom_metrics/reward_component_totals/success_reward_min',\n",
       " 'custom_metrics/reward_component_totals/success_reward_max',\n",
       " 'custom_metrics/delta_v_total_mean',\n",
       " 'custom_metrics/delta_v_total_min',\n",
       " 'custom_metrics/delta_v_total_max',\n",
       " 'custom_metrics/constraint_violation.max_vel_constraint.steps_mean',\n",
       " 'custom_metrics/constraint_violation.max_vel_constraint.steps_min',\n",
       " 'custom_metrics/constraint_violation.max_vel_constraint.steps_max',\n",
       " 'custom_metrics/constraint_violation.max_vel_constraint.ratio_mean',\n",
       " 'custom_metrics/constraint_violation.max_vel_constraint.ratio_min',\n",
       " 'custom_metrics/constraint_violation.max_vel_constraint.ratio_max',\n",
       " 'hist_stats/episode_reward',\n",
       " 'hist_stats/episode_lengths',\n",
       " 'sampler_perf/mean_env_wait_ms',\n",
       " 'sampler_perf/mean_raw_obs_processing_ms',\n",
       " 'sampler_perf/mean_inference_ms',\n",
       " 'sampler_perf/mean_action_processing_ms',\n",
       " 'timers/sample_time_ms',\n",
       " 'timers/sample_throughput',\n",
       " 'timers/load_time_ms',\n",
       " 'timers/load_throughput',\n",
       " 'timers/learn_time_ms',\n",
       " 'timers/learn_throughput',\n",
       " 'timers/update_time_ms',\n",
       " 'info/num_steps_sampled',\n",
       " 'info/num_steps_trained',\n",
       " 'perf/cpu_util_percent',\n",
       " 'perf/ram_util_percent',\n",
       " 'info/learner/default_policy/cur_kl_coeff',\n",
       " 'info/learner/default_policy/cur_lr',\n",
       " 'info/learner/default_policy/total_loss',\n",
       " 'info/learner/default_policy/policy_loss',\n",
       " 'info/learner/default_policy/vf_loss',\n",
       " 'info/learner/default_policy/vf_explained_var',\n",
       " 'info/learner/default_policy/kl',\n",
       " 'info/learner/default_policy/entropy',\n",
       " 'info/learner/default_policy/entropy_coeff']"
      ]
     },
     "execution_count": 10,
     "metadata": {},
     "output_type": "execute_result"
    }
   ],
   "source": [
    "col_names"
   ]
  },
  {
   "cell_type": "code",
   "execution_count": 11,
   "id": "bdcb8c3f",
   "metadata": {},
   "outputs": [],
   "source": [
    "quantity = 'success_mean'"
   ]
  },
  {
   "cell_type": "code",
   "execution_count": 12,
   "id": "5a13e24c",
   "metadata": {},
   "outputs": [],
   "source": [
    "look_quantity = quantity.lower()"
   ]
  },
  {
   "cell_type": "code",
   "execution_count": 13,
   "id": "34ef32c9",
   "metadata": {},
   "outputs": [
    {
     "name": "stdout",
     "output_type": "stream",
     "text": [
      "custom_metrics/outcome/success_mean\n"
     ]
    }
   ],
   "source": [
    "quantity_handle = None\n",
    "for label in col_names: \n",
    "    if look_quantity in label: \n",
    "        quantity_handle = label\n",
    "print(quantity_handle)"
   ]
  },
  {
   "cell_type": "code",
   "execution_count": null,
   "id": "fb287b78",
   "metadata": {},
   "outputs": [],
   "source": []
  }
 ],
 "metadata": {
  "kernelspec": {
   "display_name": "Python 3 (ipykernel)",
   "language": "python",
   "name": "python3"
  },
  "language_info": {
   "codemirror_mode": {
    "name": "ipython",
    "version": 3
   },
   "file_extension": ".py",
   "mimetype": "text/x-python",
   "name": "python",
   "nbconvert_exporter": "python",
   "pygments_lexer": "ipython3",
   "version": "3.7.11"
  }
 },
 "nbformat": 4,
 "nbformat_minor": 5
}
