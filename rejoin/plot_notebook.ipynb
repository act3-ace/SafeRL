{
 "cells": [
  {
   "cell_type": "code",
   "execution_count": 4,
   "id": "rough-documentary",
   "metadata": {},
   "outputs": [],
   "source": [
    "from plot_tool import *\n",
    "from matplotlib import pyplot\n",
    "import pandas as pd\n",
    "import numpy as np"
   ]
  },
  {
   "cell_type": "code",
   "execution_count": 5,
   "id": "unsigned-render",
   "metadata": {},
   "outputs": [],
   "source": [
    "# set up log variables\n",
    "path_to_save = \"/media/john/HDD/Dubins_2D_preprocessed.log\"\n",
    "blacklist = [\"obs\", \"time\"]              # list of log keys to omit\n",
    "is_jsonlines_file = False"
   ]
  },
  {
   "cell_type": "code",
   "execution_count": 6,
   "id": "authentic-words",
   "metadata": {},
   "outputs": [],
   "source": [
    "# read from file\n",
    "metadata_df, episode_dataframes = process_log(path_to_save, False, blacklist)"
   ]
  },
  {
   "cell_type": "code",
   "execution_count": 13,
   "id": "christian-mission",
   "metadata": {},
   "outputs": [
    {
     "data": {
      "text/html": [
       "<div>\n",
       "<style scoped>\n",
       "    .dataframe tbody tr th:only-of-type {\n",
       "        vertical-align: middle;\n",
       "    }\n",
       "\n",
       "    .dataframe tbody tr th {\n",
       "        vertical-align: top;\n",
       "    }\n",
       "\n",
       "    .dataframe thead th {\n",
       "        text-align: right;\n",
       "    }\n",
       "</style>\n",
       "<table border=\"1\" class=\"dataframe\">\n",
       "  <thead>\n",
       "    <tr style=\"text-align: right;\">\n",
       "      <th></th>\n",
       "      <th>worker_episode_number</th>\n",
       "      <th>episode_ID</th>\n",
       "      <th>episode_duration</th>\n",
       "      <th>episode_success</th>\n",
       "      <th>episode_failure</th>\n",
       "    </tr>\n",
       "  </thead>\n",
       "  <tbody>\n",
       "    <tr>\n",
       "      <th>0</th>\n",
       "      <td>0</td>\n",
       "      <td>288545018</td>\n",
       "      <td>443</td>\n",
       "      <td>False</td>\n",
       "      <td>distance</td>\n",
       "    </tr>\n",
       "    <tr>\n",
       "      <th>1</th>\n",
       "      <td>1</td>\n",
       "      <td>1222356005</td>\n",
       "      <td>737</td>\n",
       "      <td>False</td>\n",
       "      <td>distance</td>\n",
       "    </tr>\n",
       "    <tr>\n",
       "      <th>2</th>\n",
       "      <td>2</td>\n",
       "      <td>1819850095</td>\n",
       "      <td>499</td>\n",
       "      <td>False</td>\n",
       "      <td>distance</td>\n",
       "    </tr>\n",
       "    <tr>\n",
       "      <th>3</th>\n",
       "      <td>3</td>\n",
       "      <td>1722851096</td>\n",
       "      <td>396</td>\n",
       "      <td>False</td>\n",
       "      <td>distance</td>\n",
       "    </tr>\n",
       "    <tr>\n",
       "      <th>4</th>\n",
       "      <td>4</td>\n",
       "      <td>1640193506</td>\n",
       "      <td>489</td>\n",
       "      <td>False</td>\n",
       "      <td>distance</td>\n",
       "    </tr>\n",
       "    <tr>\n",
       "      <th>5</th>\n",
       "      <td>5</td>\n",
       "      <td>135520872</td>\n",
       "      <td>520</td>\n",
       "      <td>False</td>\n",
       "      <td>distance</td>\n",
       "    </tr>\n",
       "    <tr>\n",
       "      <th>6</th>\n",
       "      <td>6</td>\n",
       "      <td>547756574</td>\n",
       "      <td>410</td>\n",
       "      <td>False</td>\n",
       "      <td>distance</td>\n",
       "    </tr>\n",
       "    <tr>\n",
       "      <th>7</th>\n",
       "      <td>7</td>\n",
       "      <td>253228484</td>\n",
       "      <td>658</td>\n",
       "      <td>False</td>\n",
       "      <td>distance</td>\n",
       "    </tr>\n",
       "    <tr>\n",
       "      <th>8</th>\n",
       "      <td>8</td>\n",
       "      <td>1063938749</td>\n",
       "      <td>1000</td>\n",
       "      <td>False</td>\n",
       "      <td>timeout</td>\n",
       "    </tr>\n",
       "    <tr>\n",
       "      <th>9</th>\n",
       "      <td>9</td>\n",
       "      <td>1634154402</td>\n",
       "      <td>1000</td>\n",
       "      <td>False</td>\n",
       "      <td>timeout</td>\n",
       "    </tr>\n",
       "  </tbody>\n",
       "</table>\n",
       "</div>"
      ],
      "text/plain": [
       "   worker_episode_number  episode_ID  episode_duration  episode_success episode_failure\n",
       "0                      0   288545018               443            False        distance\n",
       "1                      1  1222356005               737            False        distance\n",
       "2                      2  1819850095               499            False        distance\n",
       "3                      3  1722851096               396            False        distance\n",
       "4                      4  1640193506               489            False        distance\n",
       "5                      5   135520872               520            False        distance\n",
       "6                      6   547756574               410            False        distance\n",
       "7                      7   253228484               658            False        distance\n",
       "8                      8  1063938749              1000            False         timeout\n",
       "9                      9  1634154402              1000            False         timeout"
      ]
     },
     "execution_count": 13,
     "metadata": {},
     "output_type": "execute_result"
    }
   ],
   "source": [
    "# display metadata table\n",
    "pd.set_option(\"display.max_rows\", None, \"display.max_columns\", 500, \"display.width\", 500)\n",
    "\n",
    "metadata_df.head(10)\n",
    "# metadata_df.tail(100)\n",
    "# print(metadata_df)"
   ]
  },
  {
   "cell_type": "code",
   "execution_count": 14,
   "id": "lesbian-egypt",
   "metadata": {},
   "outputs": [],
   "source": [
    "# set up variables to plot\n",
    "episode_ID = 288545018\n",
    "episode_dataframe = episode_dataframes[episode_ID]\n",
    "# x_variables = {\"step_number\": episode_dataframe[\"step_number\"]}\n",
    "x_variable = episode_dataframe[\"step_number\"]\n",
    "y_variables = {\"x\": episode_dataframe[\"info_wingman_x\"],\n",
    "               \"y\": episode_dataframe[\"info_wingman_y\"]}"
   ]
  },
  {
   "cell_type": "code",
   "execution_count": 22,
   "id": "metric-allergy",
   "metadata": {},
   "outputs": [
    {
     "data": {
      "text/plain": [
       "Text(0.5, 1.0, 'Episode 288545018:\\n Position vs. Step Number')"
      ]
     },
     "execution_count": 22,
     "metadata": {},
     "output_type": "execute_result"
    },
    {
     "data": {
      "image/png": "[encoded data removed]",
      "text/plain": [
       "<Figure size 432x288 with 1 Axes>"
      ]
     },
     "metadata": {
      "needs_background": "light"
     },
     "output_type": "display_data"
    }
   ],
   "source": [
    "# create plot\n",
    "figure, axes = pyplot.subplots()\n",
    "plot(x_variable, y_variables, axes)\n",
    "\n",
    "axes.set_xlabel(\"steps\")\n",
    "axes.set_ylabel(\"\")\n",
    "axes.legend(y_variables.keys())\n",
    "axes.set_title(\"Episode {}:\\n Position vs. Step Number\".format(episode_ID))"
   ]
  },
  {
   "cell_type": "code",
   "execution_count": 21,
   "id": "bearing-illustration",
   "metadata": {},
   "outputs": [
    {
     "data": {
      "text/plain": [
       "Text(0.5, 1.0, 'Episode 288545018:\\n Lead Position vs. Step Number')"
      ]
     },
     "execution_count": 21,
     "metadata": {},
     "output_type": "execute_result"
    },
    {
     "data": {
      "image/png": "[encoded data removed]",
      "text/plain": [
       "<Figure size 432x288 with 2 Axes>"
      ]
     },
     "metadata": {
      "needs_background": "light"
     },
     "output_type": "display_data"
    }
   ],
   "source": [
    "# create complex plots with custom variables\n",
    "time = episode_dataframe[\"step_number\"] * episode_dataframe[\"info_timestep_size\"]\n",
    "\n",
    "figure, axes = pyplot.subplots(1,2)\n",
    "\n",
    "y1 = {\"wingman X\": episode_dataframe[\"info_wingman_x\"],\n",
    "                  \"wingman Y\": episode_dataframe[\"info_wingman_y\"]}\n",
    "y2 = {\"lead X\": episode_dataframe[\"info_lead_x\"],\n",
    "                  \"lead Y\": episode_dataframe[\"info_lead_y\"]}\n",
    "\n",
    "plot(time, y1, axes[0])\n",
    "plot(time, y2, axes[1])\n",
    "\n",
    "axes[0].set_xlabel(\"steps\")\n",
    "axes[1].set_xlabel(\"steps\")\n",
    "axes[0].legend(y1.keys())\n",
    "axes[1].legend(y2.keys())\n",
    "axes[0].set_title(\"Episode {}:\\n Wingman Position vs. Step Number\".format(episode_ID))\n",
    "axes[1].set_title(\"Episode {}:\\n Lead Position vs. Step Number\".format(episode_ID))"
   ]
  },
  {
   "cell_type": "code",
   "execution_count": null,
   "id": "changing-oakland",
   "metadata": {},
   "outputs": [],
   "source": []
  }
 ],
 "metadata": {
  "kernelspec": {
   "display_name": "Python 3",
   "language": "python",
   "name": "python3"
  },
  "language_info": {
   "codemirror_mode": {
    "name": "ipython",
    "version": 3
   },
   "file_extension": ".py",
   "mimetype": "text/x-python",
   "name": "python",
   "nbconvert_exporter": "python",
   "pygments_lexer": "ipython3",
   "version": "3.6.12"
  }
 },
 "nbformat": 4,
 "nbformat_minor": 5
}
