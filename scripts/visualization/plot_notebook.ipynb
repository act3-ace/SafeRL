{
 "cells": [
  {
   "cell_type": "markdown",
   "id": "standard-dallas",
   "metadata": {},
   "source": [
    "# *AFRL RTA Research Plotting Tool*\n",
    "\n",
    "## Description\n",
    "This notebook outlines a simple workflow for analyzing log files. This tool may be copied and modified to fit a variety of environment debugging and experiment visualization needs. This notebook relies on functions defined in plot_tool.py in order to consume log files and plot extracted data to a matplotlib pyplot Figure.\n",
    "\n",
    "### Getting Started\n",
    "Let's begin by importing some dependencies:"
   ]
  },
  {
   "cell_type": "code",
   "execution_count": 10,
   "id": "answering-briefs",
   "metadata": {},
   "outputs": [],
   "source": [
    "from plot_tool import *\n",
    "from matplotlib import pyplot\n",
    "import pandas as pd\n",
    "import numpy as np"
   ]
  },
  {
   "cell_type": "markdown",
   "id": "greenhouse-debate",
   "metadata": {},
   "source": [
    "### Setting Visual Options\n",
    "Here we set the backend of matplotlib to be compatible with Jupyter notebook and set the display settings for pandas tables to increase the limit of columns."
   ]
  },
  {
   "cell_type": "code",
   "execution_count": 11,
   "id": "advance-command",
   "metadata": {},
   "outputs": [],
   "source": [
    "%matplotlib inline\n",
    "pd.set_option(\"display.max_rows\", None, \"display.max_columns\", 500, \"display.width\", 500)"
   ]
  },
  {
   "cell_type": "markdown",
   "id": "bottom-constraint",
   "metadata": {},
   "source": [
    "### Assigning Variables\n",
    "Now we set the configuration of the analysis you wish to complete. In the cell below, specify the experiment log you wish to read by assigning the name of the experiment folder to the ***experiment_folder*** variable. You will also want to specify the number of the worker whose log file you wish to read by assigning an integer to the ***worker_number*** variable. The ***blacklist*** should contain a list of strings. If the items in the ***blacklist*** correspond to any column names found within the log file, they will be omitted in each episode DataFrame.\n",
    "Assign the ID of the episode you wish to plot data from to the ***episode_ID*** variable. *You might find it useful to run the cell for processing the log file and then displaying the metadata Dataframe to aid in your selection of episode ID.*\n",
    "\n",
    "Assign the variables you wish to plot!\n",
    "**x_label** is the name assigned to the x axis on the plot. \n",
    "**x_variable** is the title of the column of the episode DataFrame you wish to assign to the x axis.\n",
    "**y_label** is the name assigned to the y axis on the plot. \n",
    "**y_variables** is a dictionary of ```{\"legend_name_on_plot\": \"Dataframe_column_title\"}``` KVPs, to allow the plotting of multiple variables on the same Figure."
   ]
  },
  {
   "cell_type": "code",
   "execution_count": 12,
   "id": "varied-heart",
   "metadata": {},
   "outputs": [],
   "source": [
    "# assign log variables\n",
    "experiment_folder = \"expr_20210308_085452\"\n",
    "worker_number = 1\n",
    "blacklist = [\"obs\", \"time\"]\n",
    "\n",
    "# assign plot variables\n",
    "episode_ID = 1047664193\n",
    "x_label = \"Steps\"\n",
    "x_variable = \"step_number\"\n",
    "y_label = \"Wingman Position\"\n",
    "y_variables = {\"x\": \"info_wingman_x\",\n",
    "               \"y\": \"info_wingman_y\"}"
   ]
  },
  {
   "cell_type": "markdown",
   "id": "systematic-petite",
   "metadata": {},
   "source": [
    "### Reading Log File\n",
    "This cell leverages the process_log() function from the plot_tool.py script to read historical RLLib experiments into memory. The logs are converted from jsonlines format, where each JSON object holds all the state data for a single timestep of a single training episode, to pandas Dataframes, where each row contains the state data for each timestep. These episode summary Dataframes are stored in an ```{ID: episode_DataFrame}``` dictionary named ***episode_dataframes***.\n",
    "\n",
    "For browsing the set of episodes stored in the specified log file, a high level collection of meta data is constructed. This metadata Dataframe is stored in the ***metadata_dataframe*** variable and contains relevant information on episode duration and terminal state."
   ]
  },
  {
   "cell_type": "code",
   "execution_count": 13,
   "id": "vietnamese-trust",
   "metadata": {},
   "outputs": [
    {
     "name": "stdout",
     "output_type": "stream",
     "text": [
      "log read time: 12.035165548324585\n"
     ]
    }
   ],
   "source": [
    "path_to_log_file = experiment_folder + \"/training_logs/worker_\" + str(worker_number) + \".log\"\n",
    "metadata_dataframe, episode_dataframes = process_log(path_to_log_file, blacklist)"
   ]
  },
  {
   "cell_type": "markdown",
   "id": "cardiovascular-asthma",
   "metadata": {},
   "source": [
    "### Display Metadata Table\n",
    "This cell is responsible for displaying log file metadata. This is to facilitate experiment analysis and ease navigation of log files. You may simply print the entire metadata Dataframe object, or you may wish use one of the dedicated ```head()``` or ```tail()``` methods to reduce the size of the output. Simply uncomment and enter the number of rows you wish to view of the dataframe in the parenthesis of ```head()``` to view rows from the top of the table or ```tail()``` to view rows from the bottom."
   ]
  },
  {
   "cell_type": "code",
   "execution_count": 14,
   "id": "floating-maldives",
   "metadata": {},
   "outputs": [
    {
     "data": {
      "text/html": [
       "<div>\n",
       "<style scoped>\n",
       "    .dataframe tbody tr th:only-of-type {\n",
       "        vertical-align: middle;\n",
       "    }\n",
       "\n",
       "    .dataframe tbody tr th {\n",
       "        vertical-align: top;\n",
       "    }\n",
       "\n",
       "    .dataframe thead th {\n",
       "        text-align: right;\n",
       "    }\n",
       "</style>\n",
       "<table border=\"1\" class=\"dataframe\">\n",
       "  <thead>\n",
       "    <tr style=\"text-align: right;\">\n",
       "      <th></th>\n",
       "      <th>worker_episode_number</th>\n",
       "      <th>episode_ID</th>\n",
       "      <th>episode_duration</th>\n",
       "      <th>episode_success</th>\n",
       "      <th>episode_failure</th>\n",
       "    </tr>\n",
       "  </thead>\n",
       "  <tbody>\n",
       "    <tr>\n",
       "      <th>0</th>\n",
       "      <td>0</td>\n",
       "      <td>288545018</td>\n",
       "      <td>443</td>\n",
       "      <td>False</td>\n",
       "      <td>distance</td>\n",
       "    </tr>\n",
       "    <tr>\n",
       "      <th>1</th>\n",
       "      <td>1</td>\n",
       "      <td>1222356005</td>\n",
       "      <td>737</td>\n",
       "      <td>False</td>\n",
       "      <td>distance</td>\n",
       "    </tr>\n",
       "    <tr>\n",
       "      <th>2</th>\n",
       "      <td>2</td>\n",
       "      <td>1819850095</td>\n",
       "      <td>499</td>\n",
       "      <td>False</td>\n",
       "      <td>distance</td>\n",
       "    </tr>\n",
       "    <tr>\n",
       "      <th>3</th>\n",
       "      <td>3</td>\n",
       "      <td>1722851096</td>\n",
       "      <td>396</td>\n",
       "      <td>False</td>\n",
       "      <td>distance</td>\n",
       "    </tr>\n",
       "    <tr>\n",
       "      <th>4</th>\n",
       "      <td>4</td>\n",
       "      <td>1640193506</td>\n",
       "      <td>489</td>\n",
       "      <td>False</td>\n",
       "      <td>distance</td>\n",
       "    </tr>\n",
       "    <tr>\n",
       "      <th>5</th>\n",
       "      <td>5</td>\n",
       "      <td>135520872</td>\n",
       "      <td>520</td>\n",
       "      <td>False</td>\n",
       "      <td>distance</td>\n",
       "    </tr>\n",
       "    <tr>\n",
       "      <th>6</th>\n",
       "      <td>6</td>\n",
       "      <td>547756574</td>\n",
       "      <td>410</td>\n",
       "      <td>False</td>\n",
       "      <td>distance</td>\n",
       "    </tr>\n",
       "    <tr>\n",
       "      <th>7</th>\n",
       "      <td>7</td>\n",
       "      <td>253228484</td>\n",
       "      <td>658</td>\n",
       "      <td>False</td>\n",
       "      <td>distance</td>\n",
       "    </tr>\n",
       "    <tr>\n",
       "      <th>8</th>\n",
       "      <td>8</td>\n",
       "      <td>1063938749</td>\n",
       "      <td>1000</td>\n",
       "      <td>False</td>\n",
       "      <td>timeout</td>\n",
       "    </tr>\n",
       "    <tr>\n",
       "      <th>9</th>\n",
       "      <td>9</td>\n",
       "      <td>1634154402</td>\n",
       "      <td>1000</td>\n",
       "      <td>False</td>\n",
       "      <td>timeout</td>\n",
       "    </tr>\n",
       "  </tbody>\n",
       "</table>\n",
       "</div>"
      ],
      "text/plain": [
       "   worker_episode_number  episode_ID  episode_duration  episode_success episode_failure\n",
       "0                      0   288545018               443            False        distance\n",
       "1                      1  1222356005               737            False        distance\n",
       "2                      2  1819850095               499            False        distance\n",
       "3                      3  1722851096               396            False        distance\n",
       "4                      4  1640193506               489            False        distance\n",
       "5                      5   135520872               520            False        distance\n",
       "6                      6   547756574               410            False        distance\n",
       "7                      7   253228484               658            False        distance\n",
       "8                      8  1063938749              1000            False         timeout\n",
       "9                      9  1634154402              1000            False         timeout"
      ]
     },
     "execution_count": 14,
     "metadata": {},
     "output_type": "execute_result"
    }
   ],
   "source": [
    "metadata_dataframe.head(10)\n",
    "# metadata_dataframe.tail(100)\n",
    "# print(metadata_dataframe)"
   ]
  },
  {
   "cell_type": "markdown",
   "id": "encouraging-commonwealth",
   "metadata": {},
   "source": [
    "### Display Available Variables\n",
    "This next cell simply displays the episode variables that were read from the log file and are available for plotting. Reference this to check spelling and discover what plotting options are available!"
   ]
  },
  {
   "cell_type": "code",
   "execution_count": 15,
   "id": "usual-cache",
   "metadata": {},
   "outputs": [
    {
     "name": "stdout",
     "output_type": "stream",
     "text": [
      "actions_0\n",
      "actions_1\n",
      "info_wingman_x\n",
      "info_wingman_y\n",
      "info_wingman_theta\n",
      "info_wingman_vel\n",
      "info_wingman_theta_dot\n",
      "info_wingman_vel_dot\n",
      "info_lead_x\n",
      "info_lead_y\n",
      "info_lead_theta\n",
      "info_lead_vel\n",
      "info_lead_theta_dot\n",
      "info_lead_vel_dot\n",
      "info_rejoin_region_x\n",
      "info_rejoin_region_y\n",
      "info_rejoin_region_radius\n",
      "info_failure\n",
      "info_success\n",
      "info_status_success\n",
      "info_status_failure\n",
      "info_status_in_rejoin\n",
      "info_status_time_elapsed\n",
      "info_reward_step\n",
      "info_reward_component_totals_rejoin\n",
      "info_reward_component_totals_rejoin_first_time\n",
      "info_reward_component_totals_time\n",
      "info_reward_component_totals_distance_change\n",
      "info_reward_component_totals_success\n",
      "info_reward_component_totals_failure\n",
      "info_reward_total\n",
      "info_timestep_size\n",
      "episode_ID\n",
      "step_number\n",
      "worker_episode_number\n"
     ]
    }
   ],
   "source": [
    "print ('\\n'.join(next(iter(episode_dataframes.values())).columns.values))"
   ]
  },
  {
   "cell_type": "markdown",
   "id": "static-nigeria",
   "metadata": {},
   "source": [
    "### Create a Plot\n",
    "This cell is responsible for drawing the selected data onto a matplotlib Figure to create a plot. The specified episode is retreived, data corresponding to specified variables are extracted, and said data are assigned to their respective axes on the plot. *Note: blank plots may arrise from misspellings of variable names. Refer to the previous cell for a list of available episode variables.*"
   ]
  },
  {
   "cell_type": "code",
   "execution_count": 16,
   "id": "present-photograph",
   "metadata": {},
   "outputs": [
    {
     "data": {
      "text/plain": [
       "Text(0.5, 1.0, 'Episode 1047664193:\\n Wingman Position vs. Steps')"
      ]
     },
     "execution_count": 16,
     "metadata": {},
     "output_type": "execute_result"
    },
    {
     "data": {
      "image/png": "[encoded data removed]",
      "text/plain": [
       "<Figure size 432x288 with 1 Axes>"
      ]
     },
     "metadata": {
      "needs_background": "light"
     },
     "output_type": "display_data"
    }
   ],
   "source": [
    "figure, axes = pyplot.subplots()\n",
    "\n",
    "episode_dataframe = episode_dataframes[episode_ID]\n",
    "x = []\n",
    "y = {}\n",
    "if x_variable in next(iter(episode_dataframes.values())).columns.values:\n",
    "    x = episode_dataframe[x_variable]\n",
    "\n",
    "for name, column in y_variables.items():\n",
    "    if column in next(iter(episode_dataframes.values())).columns.values:\n",
    "        y[name] = episode_dataframe[column]\n",
    "\n",
    "plot(x, y, axes)\n",
    "\n",
    "axes.set_xlabel(x_label)\n",
    "axes.set_ylabel(y_label)\n",
    "axes.legend(y.keys())\n",
    "axes.set_title(\"Episode {}:\\n {} vs. {}\".format(episode_ID, y_label, x_label))"
   ]
  },
  {
   "cell_type": "markdown",
   "id": "mounted-designer",
   "metadata": {},
   "source": [
    "### Customize\n",
    "Feel free to explore customized, complicated options, like plotting multiple subplots on the same Figure for side-by-side comparison or manipulating episode data to create custom values to plot! Leverage the flexibility of matplotlib, pandas, and Jupyter notebook to fully customize your analysis."
   ]
  },
  {
   "cell_type": "code",
   "execution_count": 17,
   "id": "private-commander",
   "metadata": {},
   "outputs": [
    {
     "data": {
      "text/plain": [
       "Text(0.5, 1.0, 'Episode 1047664193:\\n Lead Position vs. Time')"
      ]
     },
     "execution_count": 17,
     "metadata": {},
     "output_type": "execute_result"
    },
    {
     "data": {
      "image/png": "[encoded data removed]",
      "text/plain": [
       "<Figure size 432x288 with 2 Axes>"
      ]
     },
     "metadata": {
      "needs_background": "light"
     },
     "output_type": "display_data"
    }
   ],
   "source": [
    "# create custom variables to arbitrarily control your analysis\n",
    "time = episode_dataframe[\"step_number\"] * episode_dataframe[\"info_timestep_size\"]\n",
    "\n",
    "# generate multiple axes objects for the same figure by passing arguments to the subplots() method\n",
    "figure, axes = pyplot.subplots(1,2)\n",
    "\n",
    "y1 = {\"wingman X\": episode_dataframe[\"info_wingman_x\"],\n",
    "                  \"wingman Y\": episode_dataframe[\"info_wingman_y\"]}\n",
    "y2 = {\"lead X\": episode_dataframe[\"info_lead_x\"],\n",
    "                  \"lead Y\": episode_dataframe[\"info_lead_y\"]}\n",
    "\n",
    "plot(time, y1, axes[0])\n",
    "plot(time, y2, axes[1])\n",
    "\n",
    "axes[0].set_xlabel(\"time\")\n",
    "axes[1].set_xlabel(\"time\")\n",
    "axes[0].legend(y1.keys())\n",
    "axes[1].legend(y2.keys())\n",
    "axes[0].set_title(\"Episode {}:\\n Wingman Position vs. Time\".format(episode_ID))\n",
    "axes[1].set_title(\"Episode {}:\\n Lead Position vs. Time\".format(episode_ID))"
   ]
  },
  {
   "cell_type": "code",
   "execution_count": null,
   "id": "through-moore",
   "metadata": {},
   "outputs": [],
   "source": []
  }
 ],
 "metadata": {
  "kernelspec": {
   "display_name": "Python 3",
   "language": "python",
   "name": "python3"
  },
  "language_info": {
   "codemirror_mode": {
    "name": "ipython",
    "version": 3
   },
   "file_extension": ".py",
   "mimetype": "text/x-python",
   "name": "python",
   "nbconvert_exporter": "python",
   "pygments_lexer": "ipython3",
   "version": "3.6.12"
  }
 },
 "nbformat": 4,
 "nbformat_minor": 5
}